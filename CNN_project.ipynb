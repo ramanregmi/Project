{
 "cells": [
  {
   "cell_type": "markdown",
   "metadata": {
    "id": "nUUbLnT9yc-R"
   },
   "source": [
    "# Project: CNN\n",
    "\n",
    "Team members:  \n",
    "Full Name | Student ID | GitHub Profile Link | Project GitHub Repository Link\n",
    "- **Anish Ghimire (101143773)**  \n",
    "[https://github.com/anish-g] [https://github.com/anish-g/MLF-CNN-Project]\n",
    "\n",
    "- **Prajwol Tiwari (101144638)**  \n",
    "[https://github.com/prajwol148] [https://github.com/prajwol148/CNN-Implementation-for-MNIST-Digit-Recognition]\n",
    "\n",
    "- **Pramesh Baral (101139536)**  \n",
    "[https://github.com/prms318] [https://github.com/Prms318/CNN-Team-Project]\n",
    "\n",
    "- **Pradip Ganesh (101124775)**  \n",
    "[https://github.com/pradipganesh61] [https://github.com/pradipganesh61/CNN]\n",
    "\n",
    "- **Shashwat Shrestha (101130302)**  \n",
    "[https://github.com/shashwatstha23] [https://github.com/shashwatstha23/cnnproject_mlf]\n",
    "\n",
    "- **Raman Regmi (101131084)**  \n",
    "[https://github.com/ramanregmi] [https://github.com/ramanregmi/Project]\n"
   ]
  },
  {
   "cell_type": "code",
   "execution_count": null,
   "metadata": {
    "id": "eGayE7soYO1f"
   },
   "outputs": [],
   "source": []
  },
  {
   "cell_type": "markdown",
   "metadata": {
    "id": "mvgD7_Kn1oJD"
   },
   "source": [
    "**Overview**\n",
    "\n",
    "The goal of this project is to build and evaluate a Convolutional Neural Network (CNN) for recognizing handwritten digits from the MNIST Dataset."
   ]
  },
  {
   "cell_type": "markdown",
   "metadata": {
    "id": "IWdA3lL-7GTt"
   },
   "source": [
    "## Data Exploration and Preparation"
   ]
  },
  {
   "cell_type": "markdown",
   "metadata": {
    "id": "F5_TQYfM3NLQ"
   },
   "source": [
    "This version of MNIST dataset titled 'Optical Recognition of Handwritten Digits' is hosted in **UC Irvine Machine Learning Repository**.\n",
    "\n",
    "Datasets can be directly fetched by using their python library called `ucimlrepo`.\n",
    "\n",
    "Installing the `ucimlrepo` python library."
   ]
  },
  {
   "cell_type": "code",
   "execution_count": 29,
   "metadata": {
    "colab": {
     "base_uri": "https://localhost:8080/"
    },
    "id": "yOy2xLX93IT6",
    "outputId": "7f327d29-5210-4c34-f3bb-fbb5b82141b3"
   },
   "outputs": [
    {
     "name": "stdout",
     "output_type": "stream",
     "text": [
      "Requirement already satisfied: ucimlrepo in /Users/leeman/anaconda3/lib/python3.11/site-packages (0.0.6)\r\n"
     ]
    }
   ],
   "source": [
    "!pip install ucimlrepo"
   ]
  },
  {
   "cell_type": "markdown",
   "metadata": {
    "id": "65LcPlJ44O4g"
   },
   "source": [
    "Fetching the dataset from the UCI Machine Learning Repository"
   ]
  },
  {
   "cell_type": "code",
   "execution_count": 30,
   "metadata": {
    "colab": {
     "base_uri": "https://localhost:8080/"
    },
    "id": "oWNqMhyc5sAB",
    "outputId": "9d300f76-5c01-4812-c145-5c5e6cdeb5f8"
   },
   "outputs": [
    {
     "name": "stdout",
     "output_type": "stream",
     "text": [
      "{'uci_id': 80, 'name': 'Optical Recognition of Handwritten Digits', 'repository_url': 'https://archive.ics.uci.edu/dataset/80/optical+recognition+of+handwritten+digits', 'data_url': 'https://archive.ics.uci.edu/static/public/80/data.csv', 'abstract': 'Two versions of this database available; see folder', 'area': 'Computer Science', 'tasks': ['Classification'], 'characteristics': ['Multivariate'], 'num_instances': 5620, 'num_features': 64, 'feature_types': ['Integer'], 'demographics': [], 'target_col': ['class'], 'index_col': None, 'has_missing_values': 'no', 'missing_values_symbol': None, 'year_of_dataset_creation': 1998, 'last_updated': 'Wed Aug 23 2023', 'dataset_doi': '10.24432/C50P49', 'creators': ['E. Alpaydin', 'C. Kaynak'], 'intro_paper': {'title': 'Methods of Combining Multiple Classifiers and Their Applications to Handwritten Digit Recognition', 'authors': 'C. Kaynak', 'published_in': 'MSc Thesis, Institute of Graduate Studies in Science and Engineering, Bogazici University', 'year': 1995, 'url': None, 'doi': None}, 'additional_info': {'summary': 'We used preprocessing programs made available by NIST to extract normalized bitmaps of handwritten digits from a preprinted form. From a total of 43 people, 30 contributed to the training set and different 13 to the test set. 32x32 bitmaps are divided into nonoverlapping blocks of 4x4 and the number of on pixels are counted in each block. This generates an input matrix of 8x8 where each element is an integer in the range 0..16. This reduces dimensionality and gives invariance to small distortions.\\r\\n\\r\\nFor info on NIST preprocessing routines, see M. D. Garris, J. L. Blue, G. T. Candela, D. L. Dimmick, J. Geist, P. J. Grother, S. A. Janet, and C. L. Wilson, NIST Form-Based Handprint Recognition System, NISTIR 5469, 1994.', 'purpose': None, 'funded_by': None, 'instances_represent': None, 'recommended_data_splits': None, 'sensitive_data': None, 'preprocessing_description': None, 'variable_info': 'All input attributes are integers in the range 0..16.\\r\\nThe last attribute is the class code 0..9', 'citation': None}}\n",
      "           name     role         type demographic description units  \\\n",
      "0    Attribute1  Feature      Integer        None        None  None   \n",
      "1    Attribute2  Feature      Integer        None        None  None   \n",
      "2    Attribute3  Feature      Integer        None        None  None   \n",
      "3    Attribute4  Feature      Integer        None        None  None   \n",
      "4    Attribute5  Feature      Integer        None        None  None   \n",
      "..          ...      ...          ...         ...         ...   ...   \n",
      "60  Attribute61  Feature      Integer        None        None  None   \n",
      "61  Attribute62  Feature      Integer        None        None  None   \n",
      "62  Attribute63  Feature      Integer        None        None  None   \n",
      "63  Attribute64  Feature      Integer        None        None  None   \n",
      "64        class   Target  Categorical        None        None  None   \n",
      "\n",
      "   missing_values  \n",
      "0              no  \n",
      "1              no  \n",
      "2              no  \n",
      "3              no  \n",
      "4              no  \n",
      "..            ...  \n",
      "60             no  \n",
      "61             no  \n",
      "62             no  \n",
      "63             no  \n",
      "64             no  \n",
      "\n",
      "[65 rows x 7 columns]\n"
     ]
    }
   ],
   "source": [
    "from ucimlrepo import fetch_ucirepo\n",
    "\n",
    "# fetch dataset\n",
    "optical_recognition_of_handwritten_digits = fetch_ucirepo(id=80)\n",
    "\n",
    "# data (as pandas dataframes)\n",
    "X = optical_recognition_of_handwritten_digits.data.features\n",
    "y = optical_recognition_of_handwritten_digits.data.targets\n",
    "\n",
    "# metadata\n",
    "print(optical_recognition_of_handwritten_digits.metadata)\n",
    "\n",
    "# variable information\n",
    "print(optical_recognition_of_handwritten_digits.variables)\n"
   ]
  },
  {
   "cell_type": "markdown",
   "metadata": {
    "id": "deXJ4rdP4hGq"
   },
   "source": [
    "Important necessary libraries for data manipulation"
   ]
  },
  {
   "cell_type": "code",
   "execution_count": 31,
   "metadata": {
    "id": "_HFyDU3E6m24"
   },
   "outputs": [],
   "source": [
    "import numpy as np\n",
    "import matplotlib.pyplot as plt"
   ]
  },
  {
   "cell_type": "markdown",
   "metadata": {
    "id": "09mIsnTc45ui"
   },
   "source": [
    "Grouping the dataset by class so that a random data can be picked from each class."
   ]
  },
  {
   "cell_type": "code",
   "execution_count": 32,
   "metadata": {
    "id": "Nz0JTZ2wnYy2"
   },
   "outputs": [],
   "source": [
    "gk = y.groupby('class')"
   ]
  },
  {
   "cell_type": "markdown",
   "metadata": {
    "id": "lZaMnbDf5K70"
   },
   "source": [
    "Storing class names as it comes in the dataset"
   ]
  },
  {
   "cell_type": "code",
   "execution_count": 33,
   "metadata": {
    "id": "Z7XfQ1YbNqmK"
   },
   "outputs": [],
   "source": [
    "class_labels = y['class'].unique()"
   ]
  },
  {
   "cell_type": "markdown",
   "metadata": {
    "id": "GJFCxzvG5QIc"
   },
   "source": [
    "This version of MNIST dataset has already been normalized and dimensionality reduced.\n",
    "\n",
    "The images are in the form  of matrix of size 8*8 where each element is an integer in the range 0...16.\n",
    "\n",
    "However, the image is flatten into an array of length 64.\n",
    "\n",
    "The feature set is reshaped from 1D to 2D (8*8 pixels), aligning with the CNN's input requirements."
   ]
  },
  {
   "cell_type": "code",
   "execution_count": 34,
   "metadata": {
    "id": "90y7Oxv9TEXN"
   },
   "outputs": [],
   "source": [
    "X_images = X.to_numpy().reshape(-1, 8, 8)"
   ]
  },
  {
   "cell_type": "markdown",
   "metadata": {
    "id": "VGeT_gR66Jib"
   },
   "source": [
    "Method to get a random index for sample images of each class so that a sample image for each digit class can be visualized."
   ]
  },
  {
   "cell_type": "code",
   "execution_count": 35,
   "metadata": {
    "id": "yN4S4A4XJ2Wp"
   },
   "outputs": [],
   "source": [
    "def get_index_sample_each_class():\n",
    "  sample_indices = []\n",
    "\n",
    "  for i in range(10):\n",
    "    sample_indices.append(gk.get_group(i).sample().index[0])\n",
    "\n",
    "  return sample_indices"
   ]
  },
  {
   "cell_type": "markdown",
   "metadata": {
    "id": "bWXvomkQ6Zzo"
   },
   "source": [
    "Visualizing a sample image from each digit class"
   ]
  },
  {
   "cell_type": "code",
   "execution_count": 36,
   "metadata": {
    "colab": {
     "base_uri": "https://localhost:8080/",
     "height": 793
    },
    "id": "vK4i_c8yLr3w",
    "outputId": "2469f2c4-a2ea-45d9-c4bc-582b32591292"
   },
   "outputs": [
    {
     "data": {
      "image/png": "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",
      "text/plain": [
       "<Figure size 800x800 with 10 Axes>"
      ]
     },
     "metadata": {},
     "output_type": "display_data"
    }
   ],
   "source": [
    "sample_idxs = get_index_sample_each_class()\n",
    "\n",
    "plt.figure(figsize=(8, 8))\n",
    "\n",
    "for i in range(10):\n",
    "\n",
    "  plt.subplot(3, 4, i + 1 if i < 8 else i + 2)\n",
    "\n",
    "  plt.imshow(X_images[sample_idxs[i]], cmap='gray', interpolation='none')\n",
    "  plt.title(f'Class: {i}')\n",
    "\n",
    "plt.suptitle('Random image samples of each digit class from MNIST Digits dataset',\n",
    "             fontsize=18)\n",
    "\n",
    "plt.tight_layout()\n",
    "plt.show()"
   ]
  },
  {
   "cell_type": "markdown",
   "metadata": {
    "id": "L19uIg4J8yAl"
   },
   "source": [
    "The dataset is divided into training and testing sets with an 80-20 split to ensure a fair evaluation of the model. The training set helps in fitting the model, while the testing set is used to evaluate its generalization capability."
   ]
  },
  {
   "cell_type": "code",
   "execution_count": 37,
   "metadata": {
    "id": "7TkI2RtF8tlx"
   },
   "outputs": [],
   "source": [
    "from sklearn.model_selection import train_test_split"
   ]
  },
  {
   "cell_type": "code",
   "execution_count": 38,
   "metadata": {
    "colab": {
     "base_uri": "https://localhost:8080/"
    },
    "id": "3NZW2BSnYcwx",
    "outputId": "9d7b76b9-ab6b-4a72-d7f9-f5fce4009377"
   },
   "outputs": [
    {
     "name": "stdout",
     "output_type": "stream",
     "text": [
      "Shape of train-test data after split.\n",
      "X_train: (4496, 8, 8)\tX_test: (1124, 8, 8)\n",
      "y_train: (4496, 1)\ty_test: (1124, 1)\n"
     ]
    }fgsdgvdg
   ],
   "source": [
    "X_train, X_test, y_train, y_test = train_test_split(X_images,\n",
    "                                                    y,\n",
    "                                                    test_size=0.2,\n",
    "                                                    random_state=42)\n",
    "\n",
    "print(f'Shape of train-test data after split.\\\n",
    "\\nX_train: {X_train.shape}\\tX_test: {X_test.shape}\\\n",
    "\\ny_train: {y_train.shape}\\ty_test: {y_test.shape}')"
   ]
  },
  {
   "cell_type": "markdown",
   "metadata": {
    "id": "KdhNvtRp-GIT"
   },
   "source": [
    "The labels are converted from a class vector (integers) to binary class matrix for use with categorical crossentropy during the training of the model."
   ]
  },
  {
   "cell_type": "code",
   "execution_count": 39,
   "metadata": {
    "id": "DGCqJphpVtUr"
   },
   "outputs": [],
   "source": [
    "# !pip install tensorflow\n",
    "from keras.utils import to_categorical"
   ]
  },
  {
   "cell_type": "code",
   "execution_count": 40,
   "metadata": {
    "id": "ERML02yHUBci"
   },
   "outputs": [],
   "source": [
    "y_train_labels = y_train\n",
    "y_test_labels = y_test\n",
    "\n",
    "y_train = to_categorical(y_train, num_classes=10)\n",
    "y_test = to_categorical(y_test, num_classes=10)"
   ]
  },
  {
   "cell_type": "markdown",
   "metadata": {
    "id": "qLaiaziY8Zxw"
   },
   "source": [
    "## Convolutional Neural Network Architecture"
   ]
  },
  {
   "cell_type": "markdown",
   "metadata": {
    "id": "rQP6NEwE9Qf5"
   },
   "source": [
    "Importing necessary modules from keras"
   ]
  },
  {
   "cell_type": "code",
   "execution_count": 41,
   "metadata": {
    "id": "WhY7BtsEV84A"
   },
   "outputs": [],
   "source": [
    "from keras.models import Sequential, load_model\n",
    "from keras.layers import Dense, Dropout, Flatten\n",
    "from keras.layers import Conv2D, MaxPooling2D, BatchNormalization\n",
    "from keras.optimizers import Adam\n",
    "\n",
    "from keras.models import Model"
   ]
  },
  {
   "cell_type": "markdown",
   "metadata": {
    "id": "UzSYmMViBpUt"
   },
   "source": [
    "Method to build CNN architecture"
   ]
  },
  {
   "cell_type": "code",
   "execution_count": 42,
   "metadata": {
    "id": "7jo5GOeyMggR"
   },
   "outputs": [],
   "source": [
    "def create_cnn_model():\n",
    "  model = Sequential()\n",
    "\n",
    "  model.add(Conv2D(filters=16,\n",
    "                  kernel_size=(3, 3),\n",
    "                  activation='relu',\n",
    "                  strides=1,\n",
    "                  padding='same',\n",
    "                  data_format='channels_last',\n",
    "                  input_shape=(8, 8, 1)))\n",
    "\n",
    "  model.add(MaxPooling2D(pool_size=(2, 2),\n",
    "                        strides=2,\n",
    "                        padding='valid'))\n",
    "\n",
    "  model.add(Dropout(0.25))\n",
    "\n",
    "  model.add(Conv2D(filters=32,\n",
    "                  kernel_size=(3, 3),\n",
    "                  activation='relu',\n",
    "                  strides=1,\n",
    "                  padding='same',\n",
    "                  data_format='channels_last'))\n",
    "\n",
    "  model.add(MaxPooling2D(pool_size=(2, 2),\n",
    "                        strides=2,\n",
    "                        padding='valid'))\n",
    "\n",
    "  model.add(Dropout(0.25))\n",
    "\n",
    "  model.add(Conv2D(filters=64,\n",
    "                  kernel_size=(3, 3),\n",
    "                  activation='relu',\n",
    "                  strides=1,\n",
    "                  padding='same',\n",
    "                  data_format='channels_last'))\n",
    "\n",
    "  model.add(MaxPooling2D(pool_size=(2, 2),\n",
    "                        strides=2,\n",
    "                        padding='valid'))\n",
    "\n",
    "  model.add(Dropout(0.25))\n",
    "\n",
    "  model.add(Flatten())\n",
    "\n",
    "  model.add(Dense(128, activation='sigmoid'))\n",
    "\n",
    "  model.add(Dropout(0.25))\n",
    "\n",
    "  model.add(Dense(512, activation='sigmoid'))\n",
    "\n",
    "  model.add(Dropout(0.25))\n",
    "\n",
    "  model.add(Dense(10, activation='softmax'))\n",
    "\n",
    "  return model"
   ]
  },
  {
   "cell_type": "code",
   "execution_count": 43,
   "metadata": {
    "id": "qmn-dmBu45D1"
   },
   "outputs": [
    {
     "name": "stderr",
     "output_type": "stream",
     "text": [
      "/Users/leeman/anaconda3/lib/python3.11/site-packages/keras/src/layers/convolutional/base_conv.py:107: UserWarning: Do not pass an `input_shape`/`input_dim` argument to a layer. When using Sequential models, prefer using an `Input(shape)` object as the first layer in the model instead.\n",
      "  super().__init__(activity_regularizer=activity_regularizer, **kwargs)\n"
     ]
    }
   ],
   "source": [
    "model = create_cnn_model()"
   ]
  },
  {
   "cell_type": "markdown",
   "metadata": {
    "id": "zUZVjv8kB1Po"
   },
   "source": [
    "Visualizing the CNN architecture"
   ]
  },
  {
   "cell_type": "code",
   "execution_count": 44,
   "metadata": {
    "colab": {
     "base_uri": "https://localhost:8080/"
    },
    "id": "R1VEOuyWOSVT",
    "outputId": "65ce00a2-1006-4474-9723-99ff84fd1a0d"
   },
   "outputs": [
    {
     "data": {
      "text/html": [
       "<pre style=\"white-space:pre;overflow-x:auto;line-height:normal;font-family:Menlo,'DejaVu Sans Mono',consolas,'Courier New',monospace\"><span style=\"font-weight: bold\">Model: \"sequential\"</span>\n",
       "</pre>\n"
      ],
      "text/plain": [
       "\u001b[1mModel: \"sequential\"\u001b[0m\n"
      ]
     },
     "metadata": {},
     "output_type": "display_data"
    },
    {
     "data": {
      "text/html": [
       "<pre style=\"white-space:pre;overflow-x:auto;line-height:normal;font-family:Menlo,'DejaVu Sans Mono',consolas,'Courier New',monospace\">┏━━━━━━━━━━━━━━━━━━━━━━━━━━━━━━━━━┳━━━━━━━━━━━━━━━━━━━━━━━━┳━━━━━━━━━━━━━━━┓\n",
       "┃<span style=\"font-weight: bold\"> Layer (type)                    </span>┃<span style=\"font-weight: bold\"> Output Shape           </span>┃<span style=\"font-weight: bold\">       Param # </span>┃\n",
       "┡━━━━━━━━━━━━━━━━━━━━━━━━━━━━━━━━━╇━━━━━━━━━━━━━━━━━━━━━━━━╇━━━━━━━━━━━━━━━┩\n",
       "│ conv2d (<span style=\"color: #0087ff; text-decoration-color: #0087ff\">Conv2D</span>)                 │ (<span style=\"color: #00d7ff; text-decoration-color: #00d7ff\">None</span>, <span style=\"color: #00af00; text-decoration-color: #00af00\">8</span>, <span style=\"color: #00af00; text-decoration-color: #00af00\">8</span>, <span style=\"color: #00af00; text-decoration-color: #00af00\">16</span>)       │           <span style=\"color: #00af00; text-decoration-color: #00af00\">160</span> │\n",
       "├─────────────────────────────────┼────────────────────────┼───────────────┤\n",
       "│ max_pooling2d (<span style=\"color: #0087ff; text-decoration-color: #0087ff\">MaxPooling2D</span>)    │ (<span style=\"color: #00d7ff; text-decoration-color: #00d7ff\">None</span>, <span style=\"color: #00af00; text-decoration-color: #00af00\">4</span>, <span style=\"color: #00af00; text-decoration-color: #00af00\">4</span>, <span style=\"color: #00af00; text-decoration-color: #00af00\">16</span>)       │             <span style=\"color: #00af00; text-decoration-color: #00af00\">0</span> │\n",
       "├─────────────────────────────────┼────────────────────────┼───────────────┤\n",
       "│ dropout (<span style=\"color: #0087ff; text-decoration-color: #0087ff\">Dropout</span>)               │ (<span style=\"color: #00d7ff; text-decoration-color: #00d7ff\">None</span>, <span style=\"color: #00af00; text-decoration-color: #00af00\">4</span>, <span style=\"color: #00af00; text-decoration-color: #00af00\">4</span>, <span style=\"color: #00af00; text-decoration-color: #00af00\">16</span>)       │             <span style=\"color: #00af00; text-decoration-color: #00af00\">0</span> │\n",
       "├─────────────────────────────────┼────────────────────────┼───────────────┤\n",
       "│ conv2d_1 (<span style=\"color: #0087ff; text-decoration-color: #0087ff\">Conv2D</span>)               │ (<span style=\"color: #00d7ff; text-decoration-color: #00d7ff\">None</span>, <span style=\"color: #00af00; text-decoration-color: #00af00\">4</span>, <span style=\"color: #00af00; text-decoration-color: #00af00\">4</span>, <span style=\"color: #00af00; text-decoration-color: #00af00\">32</span>)       │         <span style=\"color: #00af00; text-decoration-color: #00af00\">4,640</span> │\n",
       "├─────────────────────────────────┼────────────────────────┼───────────────┤\n",
       "│ max_pooling2d_1 (<span style=\"color: #0087ff; text-decoration-color: #0087ff\">MaxPooling2D</span>)  │ (<span style=\"color: #00d7ff; text-decoration-color: #00d7ff\">None</span>, <span style=\"color: #00af00; text-decoration-color: #00af00\">2</span>, <span style=\"color: #00af00; text-decoration-color: #00af00\">2</span>, <span style=\"color: #00af00; text-decoration-color: #00af00\">32</span>)       │             <span style=\"color: #00af00; text-decoration-color: #00af00\">0</span> │\n",
       "├─────────────────────────────────┼────────────────────────┼───────────────┤\n",
       "│ dropout_1 (<span style=\"color: #0087ff; text-decoration-color: #0087ff\">Dropout</span>)             │ (<span style=\"color: #00d7ff; text-decoration-color: #00d7ff\">None</span>, <span style=\"color: #00af00; text-decoration-color: #00af00\">2</span>, <span style=\"color: #00af00; text-decoration-color: #00af00\">2</span>, <span style=\"color: #00af00; text-decoration-color: #00af00\">32</span>)       │             <span style=\"color: #00af00; text-decoration-color: #00af00\">0</span> │\n",
       "├─────────────────────────────────┼────────────────────────┼───────────────┤\n",
       "│ conv2d_2 (<span style=\"color: #0087ff; text-decoration-color: #0087ff\">Conv2D</span>)               │ (<span style=\"color: #00d7ff; text-decoration-color: #00d7ff\">None</span>, <span style=\"color: #00af00; text-decoration-color: #00af00\">2</span>, <span style=\"color: #00af00; text-decoration-color: #00af00\">2</span>, <span style=\"color: #00af00; text-decoration-color: #00af00\">64</span>)       │        <span style=\"color: #00af00; text-decoration-color: #00af00\">18,496</span> │\n",
       "├─────────────────────────────────┼────────────────────────┼───────────────┤\n",
       "│ max_pooling2d_2 (<span style=\"color: #0087ff; text-decoration-color: #0087ff\">MaxPooling2D</span>)  │ (<span style=\"color: #00d7ff; text-decoration-color: #00d7ff\">None</span>, <span style=\"color: #00af00; text-decoration-color: #00af00\">1</span>, <span style=\"color: #00af00; text-decoration-color: #00af00\">1</span>, <span style=\"color: #00af00; text-decoration-color: #00af00\">64</span>)       │             <span style=\"color: #00af00; text-decoration-color: #00af00\">0</span> │\n",
       "├─────────────────────────────────┼────────────────────────┼───────────────┤\n",
       "│ dropout_2 (<span style=\"color: #0087ff; text-decoration-color: #0087ff\">Dropout</span>)             │ (<span style=\"color: #00d7ff; text-decoration-color: #00d7ff\">None</span>, <span style=\"color: #00af00; text-decoration-color: #00af00\">1</span>, <span style=\"color: #00af00; text-decoration-color: #00af00\">1</span>, <span style=\"color: #00af00; text-decoration-color: #00af00\">64</span>)       │             <span style=\"color: #00af00; text-decoration-color: #00af00\">0</span> │\n",
       "├─────────────────────────────────┼────────────────────────┼───────────────┤\n",
       "│ flatten (<span style=\"color: #0087ff; text-decoration-color: #0087ff\">Flatten</span>)               │ (<span style=\"color: #00d7ff; text-decoration-color: #00d7ff\">None</span>, <span style=\"color: #00af00; text-decoration-color: #00af00\">64</span>)             │             <span style=\"color: #00af00; text-decoration-color: #00af00\">0</span> │\n",
       "├─────────────────────────────────┼────────────────────────┼───────────────┤\n",
       "│ dense (<span style=\"color: #0087ff; text-decoration-color: #0087ff\">Dense</span>)                   │ (<span style=\"color: #00d7ff; text-decoration-color: #00d7ff\">None</span>, <span style=\"color: #00af00; text-decoration-color: #00af00\">128</span>)            │         <span style=\"color: #00af00; text-decoration-color: #00af00\">8,320</span> │\n",
       "├─────────────────────────────────┼────────────────────────┼───────────────┤\n",
       "│ dropout_3 (<span style=\"color: #0087ff; text-decoration-color: #0087ff\">Dropout</span>)             │ (<span style=\"color: #00d7ff; text-decoration-color: #00d7ff\">None</span>, <span style=\"color: #00af00; text-decoration-color: #00af00\">128</span>)            │             <span style=\"color: #00af00; text-decoration-color: #00af00\">0</span> │\n",
       "├─────────────────────────────────┼────────────────────────┼───────────────┤\n",
       "│ dense_1 (<span style=\"color: #0087ff; text-decoration-color: #0087ff\">Dense</span>)                 │ (<span style=\"color: #00d7ff; text-decoration-color: #00d7ff\">None</span>, <span style=\"color: #00af00; text-decoration-color: #00af00\">512</span>)            │        <span style=\"color: #00af00; text-decoration-color: #00af00\">66,048</span> │\n",
       "├─────────────────────────────────┼────────────────────────┼───────────────┤\n",
       "│ dropout_4 (<span style=\"color: #0087ff; text-decoration-color: #0087ff\">Dropout</span>)             │ (<span style=\"color: #00d7ff; text-decoration-color: #00d7ff\">None</span>, <span style=\"color: #00af00; text-decoration-color: #00af00\">512</span>)            │             <span style=\"color: #00af00; text-decoration-color: #00af00\">0</span> │\n",
       "├─────────────────────────────────┼────────────────────────┼───────────────┤\n",
       "│ dense_2 (<span style=\"color: #0087ff; text-decoration-color: #0087ff\">Dense</span>)                 │ (<span style=\"color: #00d7ff; text-decoration-color: #00d7ff\">None</span>, <span style=\"color: #00af00; text-decoration-color: #00af00\">10</span>)             │         <span style=\"color: #00af00; text-decoration-color: #00af00\">5,130</span> │\n",
       "└─────────────────────────────────┴────────────────────────┴───────────────┘\n",
       "</pre>\n"
      ],
      "text/plain": [
       "┏━━━━━━━━━━━━━━━━━━━━━━━━━━━━━━━━━┳━━━━━━━━━━━━━━━━━━━━━━━━┳━━━━━━━━━━━━━━━┓\n",
       "┃\u001b[1m \u001b[0m\u001b[1mLayer (type)                   \u001b[0m\u001b[1m \u001b[0m┃\u001b[1m \u001b[0m\u001b[1mOutput Shape          \u001b[0m\u001b[1m \u001b[0m┃\u001b[1m \u001b[0m\u001b[1m      Param #\u001b[0m\u001b[1m \u001b[0m┃\n",
       "┡━━━━━━━━━━━━━━━━━━━━━━━━━━━━━━━━━╇━━━━━━━━━━━━━━━━━━━━━━━━╇━━━━━━━━━━━━━━━┩\n",
       "│ conv2d (\u001b[38;5;33mConv2D\u001b[0m)                 │ (\u001b[38;5;45mNone\u001b[0m, \u001b[38;5;34m8\u001b[0m, \u001b[38;5;34m8\u001b[0m, \u001b[38;5;34m16\u001b[0m)       │           \u001b[38;5;34m160\u001b[0m │\n",
       "├─────────────────────────────────┼────────────────────────┼───────────────┤\n",
       "│ max_pooling2d (\u001b[38;5;33mMaxPooling2D\u001b[0m)    │ (\u001b[38;5;45mNone\u001b[0m, \u001b[38;5;34m4\u001b[0m, \u001b[38;5;34m4\u001b[0m, \u001b[38;5;34m16\u001b[0m)       │             \u001b[38;5;34m0\u001b[0m │\n",
       "├─────────────────────────────────┼────────────────────────┼───────────────┤\n",
       "│ dropout (\u001b[38;5;33mDropout\u001b[0m)               │ (\u001b[38;5;45mNone\u001b[0m, \u001b[38;5;34m4\u001b[0m, \u001b[38;5;34m4\u001b[0m, \u001b[38;5;34m16\u001b[0m)       │             \u001b[38;5;34m0\u001b[0m │\n",
       "├─────────────────────────────────┼────────────────────────┼───────────────┤\n",
       "│ conv2d_1 (\u001b[38;5;33mConv2D\u001b[0m)               │ (\u001b[38;5;45mNone\u001b[0m, \u001b[38;5;34m4\u001b[0m, \u001b[38;5;34m4\u001b[0m, \u001b[38;5;34m32\u001b[0m)       │         \u001b[38;5;34m4,640\u001b[0m │\n",
       "├─────────────────────────────────┼────────────────────────┼───────────────┤\n",
       "│ max_pooling2d_1 (\u001b[38;5;33mMaxPooling2D\u001b[0m)  │ (\u001b[38;5;45mNone\u001b[0m, \u001b[38;5;34m2\u001b[0m, \u001b[38;5;34m2\u001b[0m, \u001b[38;5;34m32\u001b[0m)       │             \u001b[38;5;34m0\u001b[0m │\n",
       "├─────────────────────────────────┼────────────────────────┼───────────────┤\n",
       "│ dropout_1 (\u001b[38;5;33mDropout\u001b[0m)             │ (\u001b[38;5;45mNone\u001b[0m, \u001b[38;5;34m2\u001b[0m, \u001b[38;5;34m2\u001b[0m, \u001b[38;5;34m32\u001b[0m)       │             \u001b[38;5;34m0\u001b[0m │\n",
       "├─────────────────────────────────┼────────────────────────┼───────────────┤\n",
       "│ conv2d_2 (\u001b[38;5;33mConv2D\u001b[0m)               │ (\u001b[38;5;45mNone\u001b[0m, \u001b[38;5;34m2\u001b[0m, \u001b[38;5;34m2\u001b[0m, \u001b[38;5;34m64\u001b[0m)       │        \u001b[38;5;34m18,496\u001b[0m │\n",
       "├─────────────────────────────────┼────────────────────────┼───────────────┤\n",
       "│ max_pooling2d_2 (\u001b[38;5;33mMaxPooling2D\u001b[0m)  │ (\u001b[38;5;45mNone\u001b[0m, \u001b[38;5;34m1\u001b[0m, \u001b[38;5;34m1\u001b[0m, \u001b[38;5;34m64\u001b[0m)       │             \u001b[38;5;34m0\u001b[0m │\n",
       "├─────────────────────────────────┼────────────────────────┼───────────────┤\n",
       "│ dropout_2 (\u001b[38;5;33mDropout\u001b[0m)             │ (\u001b[38;5;45mNone\u001b[0m, \u001b[38;5;34m1\u001b[0m, \u001b[38;5;34m1\u001b[0m, \u001b[38;5;34m64\u001b[0m)       │             \u001b[38;5;34m0\u001b[0m │\n",
       "├─────────────────────────────────┼────────────────────────┼───────────────┤\n",
       "│ flatten (\u001b[38;5;33mFlatten\u001b[0m)               │ (\u001b[38;5;45mNone\u001b[0m, \u001b[38;5;34m64\u001b[0m)             │             \u001b[38;5;34m0\u001b[0m │\n",
       "├─────────────────────────────────┼────────────────────────┼───────────────┤\n",
       "│ dense (\u001b[38;5;33mDense\u001b[0m)                   │ (\u001b[38;5;45mNone\u001b[0m, \u001b[38;5;34m128\u001b[0m)            │         \u001b[38;5;34m8,320\u001b[0m │\n",
       "├─────────────────────────────────┼────────────────────────┼───────────────┤\n",
       "│ dropout_3 (\u001b[38;5;33mDropout\u001b[0m)             │ (\u001b[38;5;45mNone\u001b[0m, \u001b[38;5;34m128\u001b[0m)            │             \u001b[38;5;34m0\u001b[0m │\n",
       "├─────────────────────────────────┼────────────────────────┼───────────────┤\n",
       "│ dense_1 (\u001b[38;5;33mDense\u001b[0m)                 │ (\u001b[38;5;45mNone\u001b[0m, \u001b[38;5;34m512\u001b[0m)            │        \u001b[38;5;34m66,048\u001b[0m │\n",
       "├─────────────────────────────────┼────────────────────────┼───────────────┤\n",
       "│ dropout_4 (\u001b[38;5;33mDropout\u001b[0m)             │ (\u001b[38;5;45mNone\u001b[0m, \u001b[38;5;34m512\u001b[0m)            │             \u001b[38;5;34m0\u001b[0m │\n",
       "├─────────────────────────────────┼────────────────────────┼───────────────┤\n",
       "│ dense_2 (\u001b[38;5;33mDense\u001b[0m)                 │ (\u001b[38;5;45mNone\u001b[0m, \u001b[38;5;34m10\u001b[0m)             │         \u001b[38;5;34m5,130\u001b[0m │\n",
       "└─────────────────────────────────┴────────────────────────┴───────────────┘\n"
      ]
     },
     "metadata": {},
     "output_type": "display_data"
    },
    {
     "data": {
      "text/html": [
       "<pre style=\"white-space:pre;overflow-x:auto;line-height:normal;font-family:Menlo,'DejaVu Sans Mono',consolas,'Courier New',monospace\"><span style=\"font-weight: bold\"> Total params: </span><span style=\"color: #00af00; text-decoration-color: #00af00\">102,794</span> (401.54 KB)\n",
       "</pre>\n"
      ],
      "text/plain": [
       "\u001b[1m Total params: \u001b[0m\u001b[38;5;34m102,794\u001b[0m (401.54 KB)\n"
      ]
     },
     "metadata": {},
     "output_type": "display_data"
    },
    {
     "data": {
      "text/html": [
       "<pre style=\"white-space:pre;overflow-x:auto;line-height:normal;font-family:Menlo,'DejaVu Sans Mono',consolas,'Courier New',monospace\"><span style=\"font-weight: bold\"> Trainable params: </span><span style=\"color: #00af00; text-decoration-color: #00af00\">102,794</span> (401.54 KB)\n",
       "</pre>\n"
      ],
      "text/plain": [
       "\u001b[1m Trainable params: \u001b[0m\u001b[38;5;34m102,794\u001b[0m (401.54 KB)\n"
      ]
     },
     "metadata": {},
     "output_type": "display_data"
    },
    {
     "data": {
      "text/html": [
       "<pre style=\"white-space:pre;overflow-x:auto;line-height:normal;font-family:Menlo,'DejaVu Sans Mono',consolas,'Courier New',monospace\"><span style=\"font-weight: bold\"> Non-trainable params: </span><span style=\"color: #00af00; text-decoration-color: #00af00\">0</span> (0.00 B)\n",
       "</pre>\n"
      ],
      "text/plain": [
       "\u001b[1m Non-trainable params: \u001b[0m\u001b[38;5;34m0\u001b[0m (0.00 B)\n"
      ]
     },
     "metadata": {},
     "output_type": "display_data"
    }
   ],
   "source": [
    "model.summary()"
   ]
  },
  {
   "cell_type": "markdown",
   "metadata": {
    "id": "ldbVAql3BzQm"
   },
   "source": [
    "The CNN architecture designed for recognizing 8x8 pixel images of handwritten digits comprises several layers, each with specific functions aimed at processing and transforming the input images into a form where digit classifications can be made effectively.\n",
    "\n",
    "1. First Convolutional Layer\n",
    " - Parameters: Consists of 16 filters, each of size 3x3.\n",
    " - Activation: Utilizes the ReLU activation function.\n",
    " - Dimensions: Maintains the same spatial dimensions (8x8) due to the 'same' padding strategy.\n",
    " - Effect: This layer is responsible for capturing basic visual features such as edges and gradients within the image. Each filter produces a separate feature map, resulting in 16 different representations of the input image, each highlighting different aspects of the image.\n",
    "\n",
    "2. First Pooling Layer\n",
    " - Pooling Size: Uses a 2x2 window for pooling.\n",
    " - Strides: With a stride of 2 and 'valid' padding, it reduces the spatial dimensions of each feature map from 8x8 to 4x4.\n",
    " - Effect: Pooling layers serve to reduce the spatial dimensions of the feature maps, which decreases the number of parameters and computation in the network. This operation helps in extracting the dominant features while reducing the sensitivity to the exact locations of features.\n",
    "\n",
    "3. First Dropout Layer\n",
    " - Dropout Rate: Set at 25%.\n",
    " - Effect: Dropout layers randomly set a fraction of the input units to zero during training, which helps in preventing overfitting by ensuring that no single set of neurons within the layer overly specializes to the training data.\n",
    "\n",
    "4. Second Convolutional Layer\n",
    " - Parameters: Increases to 32 filters, maintaining the 3x3 size.\n",
    " - Activation: Continues with ReLU activation.\n",
    " - Dimensions: The feature maps remain at 4x4 due to 'same' padding.\n",
    " - Effect: This layer extracts more complex features from the simplified outputs provided by the first pooling layer. By increasing the number of filters, it allows the network to develop a richer understanding of the input data.\n",
    "\n",
    "5. Second Pooling Layer\n",
    " - Pooling Size and Strides: Same as the first pooling layer, reducing each feature map size further from 4x4 to 2x2.\n",
    " - Effect: Further reduces the spatial dimensions, focusing on the most salient features, and helps in further reducing the computational complexity.\n",
    "\n",
    "6. Second Dropout Layer\n",
    " - Dropout Rate: Maintains at 25%.\n",
    " - Effect: Adds another layer of regularization to enhance the model's generalization capabilities.\n",
    "\n",
    "7. Third Convolutional Layer\n",
    " - Parameters: Further increases the filter count to 64.\n",
    " - Activation: Uses ReLU activation.\n",
    " - Dimensions: Maintains the 2x2 dimensions with 'same' padding.\n",
    " - Effect: This layer captures even higher-level features from the input data. With more filters, the network can capture a more diverse set of features, crucial for accurate classification tasks.\n",
    "\n",
    "8. Third Pooling Layer\n",
    " - Effect: Reduces each 2x2 feature map to 1x1, effectively distilling the feature maps to their most essential elements.\n",
    "\n",
    "9. Third Dropout Layer\n",
    " - Effect: Further ensures that the model avoids overfitting, especially important as the complexity of the model increases.\n",
    "\n",
    "10. Flatten Layer\n",
    " - Effect: Transforms the 3D output of the previous convolutional layers to a 1D array without affecting the batch size. This layer prepares the data for the final classification steps in the dense layers.\n",
    "\n",
    "11. Dense and Dropout Layers\n",
    " - Configuration: Includes dense layers with 128 and 512 neurons, each followed by a dropout layer, with sigmoid activation for the dense layers and softmax for the final output.\n",
    " - Effect: These layers integrate the features learned by the convolutions into predictions for the 10 classes of digits. The dropout layers interspersed between them prevent overfitting by randomly dropping a portion of the neurons, ensuring that different neurons can learn to identify various features independently.\n",
    "\n",
    "12. Output Layer\n",
    " - Activation: Uses softmax activation.\n",
    " - Effect: Outputs the probability distribution across the 10 digit classes, allowing for the classification of the input digit image into one of these classes based on the highest probability."
   ]
  },
  {
   "cell_type": "markdown",
   "metadata": {
    "id": "ztg-1kclEgev"
   },
   "source": [
    "**Model Compilation**\n",
    "\n",
    "Optimizer:  \n",
    "\n",
    "The model uses the Adam optimizer, which is an extension to stochastic gradient descent. This optimizer is particularly effective for problems involving a lot of data or parameters. Adam combines the best properties of the AdaGrad and RMSProp algorithms to provide an optimization algorithm that can handle sparse gradients on noisy problems.\n",
    "\n",
    "Loss Function:\n",
    "`categorical_crossentropy` loss function is used when there are two or more label classes. The labels are expected to be provided in a one-hot representation. This is appropriate since the network's output uses a softmax activation function, which outputs a probability distribution over the classes. Categorical crossentropy will compare the distribution produced by the output layer with the true distribution, where the true probability is 100% for the actual class."
   ]
  },
  {
   "cell_type": "code",
   "execution_count": 45,
   "metadata": {
    "id": "e3DvzQ3KOTBJ"
   },
   "outputs": [],
   "source": [
    "optimizer = Adam(learning_rate=0.001, beta_1=0.9, beta_2=0.999)\n",
    "\n",
    "model.compile(optimizer=optimizer, loss=\"categorical_crossentropy\", metrics=[\"accuracy\"])"
   ]
  },
  {
   "cell_type": "markdown",
   "metadata": {
    "id": "iop9QI-ZF7xO"
   },
   "source": [
    "## Visualizing CNN feature maps"
   ]
  },
  {
   "cell_type": "markdown",
   "metadata": {
    "id": "ndz7PonbGncO"
   },
   "source": [
    "Visualizing the feature maps of the CNN architecture after it processes the input image.\n",
    "\n",
    "`activation_model` is a new model derived from the original model but designed to output the activations from each convolutional and max pooling layer instead of just the final output.\n",
    "\n",
    "For each layer, a grid of all filter outputs (feature maps) is displayed. The grid is scaled based on the number of filters, providing a clear view of each filter’s pattern recognition."
   ]
  },
  {
   "cell_type": "code",
   "execution_count": 46,
   "metadata": {
    "id": "_klOC_570wJo"
   },
   "outputs": [
    {
     "ename": "ValueError",
     "evalue": "The layer sequential has never been called and thus has no defined input.",
     "output_type": "error",
     "traceback": [
      "\u001b[0;31m---------------------------------------------------------------------------\u001b[0m",
      "\u001b[0;31mValueError\u001b[0m                                Traceback (most recent call last)",
      "Cell \u001b[0;32mIn[46], line 5\u001b[0m\n\u001b[1;32m      2\u001b[0m \u001b[38;5;28;01mimport\u001b[39;00m \u001b[38;5;21;01mmatplotlib\u001b[39;00m\u001b[38;5;21;01m.\u001b[39;00m\u001b[38;5;21;01mpyplot\u001b[39;00m \u001b[38;5;28;01mas\u001b[39;00m \u001b[38;5;21;01mplt\u001b[39;00m\n\u001b[1;32m      3\u001b[0m \u001b[38;5;28;01mimport\u001b[39;00m \u001b[38;5;21;01mnumpy\u001b[39;00m \u001b[38;5;28;01mas\u001b[39;00m \u001b[38;5;21;01mnp\u001b[39;00m\n\u001b[0;32m----> 5\u001b[0m activation_model \u001b[38;5;241m=\u001b[39m Model(inputs\u001b[38;5;241m=\u001b[39mmodel\u001b[38;5;241m.\u001b[39minput,\n\u001b[1;32m      6\u001b[0m                          outputs\u001b[38;5;241m=\u001b[39m[layer\u001b[38;5;241m.\u001b[39moutput \u001b[38;5;28;01mfor\u001b[39;00m layer \u001b[38;5;129;01min\u001b[39;00m model\u001b[38;5;241m.\u001b[39mlayers \u001b[38;5;28;01mif\u001b[39;00m \u001b[38;5;28misinstance\u001b[39m(layer, (Conv2D, MaxPooling2D))])\n\u001b[1;32m      8\u001b[0m \u001b[38;5;28;01mdef\u001b[39;00m \u001b[38;5;21mdisplay_feature_maps\u001b[39m(image_index, X_images):\n\u001b[1;32m      9\u001b[0m     input_tensor \u001b[38;5;241m=\u001b[39m np\u001b[38;5;241m.\u001b[39mexpand_dims(X_images[image_index], axis\u001b[38;5;241m=\u001b[39m\u001b[38;5;241m0\u001b[39m)\n",
      "File \u001b[0;32m~/anaconda3/lib/python3.11/site-packages/keras/src/ops/operation.py:228\u001b[0m, in \u001b[0;36mOperation.input\u001b[0;34m(self)\u001b[0m\n\u001b[1;32m    218\u001b[0m \u001b[38;5;129m@property\u001b[39m\n\u001b[1;32m    219\u001b[0m \u001b[38;5;28;01mdef\u001b[39;00m \u001b[38;5;21minput\u001b[39m(\u001b[38;5;28mself\u001b[39m):\n\u001b[1;32m    220\u001b[0m \u001b[38;5;250m    \u001b[39m\u001b[38;5;124;03m\"\"\"Retrieves the input tensor(s) of a symbolic operation.\u001b[39;00m\n\u001b[1;32m    221\u001b[0m \n\u001b[1;32m    222\u001b[0m \u001b[38;5;124;03m    Only returns the tensor(s) corresponding to the *first time*\u001b[39;00m\n\u001b[0;32m   (...)\u001b[0m\n\u001b[1;32m    226\u001b[0m \u001b[38;5;124;03m        Input tensor or list of input tensors.\u001b[39;00m\n\u001b[1;32m    227\u001b[0m \u001b[38;5;124;03m    \"\"\"\u001b[39;00m\n\u001b[0;32m--> 228\u001b[0m     \u001b[38;5;28;01mreturn\u001b[39;00m \u001b[38;5;28mself\u001b[39m\u001b[38;5;241m.\u001b[39m_get_node_attribute_at_index(\u001b[38;5;241m0\u001b[39m, \u001b[38;5;124m\"\u001b[39m\u001b[38;5;124minput_tensors\u001b[39m\u001b[38;5;124m\"\u001b[39m, \u001b[38;5;124m\"\u001b[39m\u001b[38;5;124minput\u001b[39m\u001b[38;5;124m\"\u001b[39m)\n",
      "File \u001b[0;32m~/anaconda3/lib/python3.11/site-packages/keras/src/ops/operation.py:259\u001b[0m, in \u001b[0;36mOperation._get_node_attribute_at_index\u001b[0;34m(self, node_index, attr, attr_name)\u001b[0m\n\u001b[1;32m    243\u001b[0m \u001b[38;5;250m\u001b[39m\u001b[38;5;124;03m\"\"\"Private utility to retrieves an attribute (e.g. inputs) from a node.\u001b[39;00m\n\u001b[1;32m    244\u001b[0m \n\u001b[1;32m    245\u001b[0m \u001b[38;5;124;03mThis is used to implement the properties:\u001b[39;00m\n\u001b[0;32m   (...)\u001b[0m\n\u001b[1;32m    256\u001b[0m \u001b[38;5;124;03m    The operation's attribute `attr` at the node of index `node_index`.\u001b[39;00m\n\u001b[1;32m    257\u001b[0m \u001b[38;5;124;03m\"\"\"\u001b[39;00m\n\u001b[1;32m    258\u001b[0m \u001b[38;5;28;01mif\u001b[39;00m \u001b[38;5;129;01mnot\u001b[39;00m \u001b[38;5;28mself\u001b[39m\u001b[38;5;241m.\u001b[39m_inbound_nodes:\n\u001b[0;32m--> 259\u001b[0m     \u001b[38;5;28;01mraise\u001b[39;00m \u001b[38;5;167;01mValueError\u001b[39;00m(\n\u001b[1;32m    260\u001b[0m         \u001b[38;5;124mf\u001b[39m\u001b[38;5;124m\"\u001b[39m\u001b[38;5;124mThe layer \u001b[39m\u001b[38;5;132;01m{\u001b[39;00m\u001b[38;5;28mself\u001b[39m\u001b[38;5;241m.\u001b[39mname\u001b[38;5;132;01m}\u001b[39;00m\u001b[38;5;124m has never been called \u001b[39m\u001b[38;5;124m\"\u001b[39m\n\u001b[1;32m    261\u001b[0m         \u001b[38;5;124mf\u001b[39m\u001b[38;5;124m\"\u001b[39m\u001b[38;5;124mand thus has no defined \u001b[39m\u001b[38;5;132;01m{\u001b[39;00mattr_name\u001b[38;5;132;01m}\u001b[39;00m\u001b[38;5;124m.\u001b[39m\u001b[38;5;124m\"\u001b[39m\n\u001b[1;32m    262\u001b[0m     )\n\u001b[1;32m    263\u001b[0m \u001b[38;5;28;01mif\u001b[39;00m \u001b[38;5;129;01mnot\u001b[39;00m \u001b[38;5;28mlen\u001b[39m(\u001b[38;5;28mself\u001b[39m\u001b[38;5;241m.\u001b[39m_inbound_nodes) \u001b[38;5;241m>\u001b[39m node_index:\n\u001b[1;32m    264\u001b[0m     \u001b[38;5;28;01mraise\u001b[39;00m \u001b[38;5;167;01mValueError\u001b[39;00m(\n\u001b[1;32m    265\u001b[0m         \u001b[38;5;124mf\u001b[39m\u001b[38;5;124m\"\u001b[39m\u001b[38;5;124mAsked to get \u001b[39m\u001b[38;5;132;01m{\u001b[39;00mattr_name\u001b[38;5;132;01m}\u001b[39;00m\u001b[38;5;124m at node \u001b[39m\u001b[38;5;124m\"\u001b[39m\n\u001b[1;32m    266\u001b[0m         \u001b[38;5;124mf\u001b[39m\u001b[38;5;124m\"\u001b[39m\u001b[38;5;132;01m{\u001b[39;00mnode_index\u001b[38;5;132;01m}\u001b[39;00m\u001b[38;5;124m, but the operation has only \u001b[39m\u001b[38;5;124m\"\u001b[39m\n\u001b[1;32m    267\u001b[0m         \u001b[38;5;124mf\u001b[39m\u001b[38;5;124m\"\u001b[39m\u001b[38;5;132;01m{\u001b[39;00m\u001b[38;5;28mlen\u001b[39m(\u001b[38;5;28mself\u001b[39m\u001b[38;5;241m.\u001b[39m_inbound_nodes)\u001b[38;5;132;01m}\u001b[39;00m\u001b[38;5;124m inbound nodes.\u001b[39m\u001b[38;5;124m\"\u001b[39m\n\u001b[1;32m    268\u001b[0m     )\n",
      "\u001b[0;31mValueError\u001b[0m: The layer sequential has never been called and thus has no defined input."
     ]
    }
   ],
   "source": [
    "from keras.models import Model\n",
    "import matplotlib.pyplot as plt\n",
    "import numpy as np\n",
    "\n",
    "activation_model = Model(inputs=model.input,\n",
    "                         outputs=[layer.output for layer in model.layers if isinstance(layer, (Conv2D, MaxPooling2D))])\n",
    "\n",
    "def display_feature_maps(image_index, X_images):\n",
    "    input_tensor = np.expand_dims(X_images[image_index], axis=0)\n",
    "    plt.figure(figsize=(2, 2))\n",
    "    plt.title('Original image')\n",
    "    plt.imshow(X_images[image_index], aspect='auto', cmap='gray')\n",
    "    plt.show()\n",
    "\n",
    "    activations = activation_model.predict(input_tensor)\n",
    "\n",
    "    for layer, layer_activation in zip([layer for layer in model.layers if isinstance(layer, (Conv2D, MaxPooling2D))], activations):\n",
    "        num_filters = layer_activation.shape[-1]\n",
    "        size = layer_activation.shape[1]\n",
    "        display_grid = np.zeros((size, size * num_filters))\n",
    "\n",
    "        for i in range(num_filters):\n",
    "            x = layer_activation[0, :, :, i]\n",
    "            x -= x.mean()\n",
    "            if x.std() > 0:\n",
    "                x /= x.std()\n",
    "            x *= 64\n",
    "            x += 128\n",
    "            x = np.clip(x, 0, 255).astype('uint8')\n",
    "            display_grid[:, i * size : (i + 1) * size] = x\n",
    "\n",
    "        scale = 20. / num_filters\n",
    "        plt.figure(figsize=(scale * num_filters, scale))\n",
    "        plt.title(layer.name)\n",
    "        plt.grid(False)\n",
    "        plt.imshow(display_grid, aspect='auto', cmap='gray')\n",
    "        plt.show()"
   ]
  },
  {
   "cell_type": "code",
   "execution_count": null,
   "metadata": {
    "colab": {
     "base_uri": "https://localhost:8080/",
     "height": 986
    },
    "id": "uxLG2ulo0wzp",
    "outputId": "0886bb0d-8c41-4937-d4af-61a629c0b57b"
   },
   "outputs": [],
   "source": [
    "display_feature_maps(59, X_images)"
   ]
  },
  {
   "cell_type": "markdown",
   "metadata": {
    "id": "bEvOlo8SHv8k"
   },
   "source": [
    "This demonstrates the CNN's ability to hierarchically extract and abstract features from raw pixel values.\n",
    "\n",
    "As the image moves through the layers of the network, we can observe the transition from simple, low-level features to complex, high-level features that contribute to the network's understanding and classification of the image."
   ]
  },
  {
   "cell_type": "markdown",
   "metadata": {
    "id": "s-mHiMAVJd5U"
   },
   "source": [
    "## Model Training"
   ]
  },
  {
   "cell_type": "markdown",
   "metadata": {
    "id": "9oRIuBQaKJA_"
   },
   "source": [
    "The CNN model is trained on the training data for 100 epochs with a batch size of 128."
   ]
  },
  {
   "cell_type": "code",
   "execution_count": null,
   "metadata": {
    "colab": {
     "base_uri": "https://localhost:8080/"
    },
    "id": "4B2eYizSOKOU",
    "outputId": "65b8cec8-cfc6-41d7-e101-a2a748996720"
   },
   "outputs": [],
   "source": [
    "# batch_size = 64\n",
    "batch_size = 128\n",
    "epochs = 100\n",
    "\n",
    "history = model.fit(X_train, y_train, epochs=epochs, batch_size=batch_size)"
   ]
  },
  {
   "cell_type": "markdown",
   "metadata": {
    "id": "t2eZzX4YMWZS"
   },
   "source": [
    "Visualizing loss and accuracy while training"
   ]
  },
  {
   "cell_type": "code",
   "execution_count": null,
   "metadata": {
    "colab": {
     "base_uri": "https://localhost:8080/",
     "height": 807
    },
    "id": "f-Jz59DkQw2r",
    "outputId": "78374671-478e-497f-a414-29cff5ec9d30"
   },
   "outputs": [],
   "source": [
    "train_loss = history.history['loss']\n",
    "train_acc = history.history['accuracy']\n",
    "\n",
    "plt.figure(figsize=(8, 8))\n",
    "\n",
    "plt.subplot(2, 1, 1)\n",
    "plt.plot(train_loss, label='Training Loss')\n",
    "plt.title('Training Loss')\n",
    "plt.xlabel('Epochs')\n",
    "plt.ylabel('Accuracy')\n",
    "plt.grid()\n",
    "\n",
    "\n",
    "plt.subplot(2, 1, 2)\n",
    "plt.plot(train_acc, label='Training Accuracy')\n",
    "plt.title('Training Accuracy')\n",
    "plt.xlabel('Epochs')\n",
    "plt.ylabel('Accuracy')\n",
    "plt.grid()\n",
    "\n",
    "plt.tight_layout()\n",
    "plt.show()"
   ]
  },
  {
   "cell_type": "markdown",
   "metadata": {
    "id": "uaXdmg6WMemh"
   },
   "source": [
    "## Model Evaluation"
   ]
  },
  {
   "cell_type": "markdown",
   "metadata": {
    "id": "t-JdcgdFNoq6"
   },
   "source": [
    "Evaluating the CNN model on the test data.\n",
    "\n",
    "The loss and accuracy metrics indicates good model performance with high accuracy and low loss on the test set."
   ]
  },
  {
   "cell_type": "code",
   "execution_count": null,
   "metadata": {
    "colab": {
     "base_uri": "https://localhost:8080/"
    },
    "id": "hKCflbSpRN27",
    "outputId": "ace56be7-a0f0-4d22-a379-c912681af30d"
   },
   "outputs": [],
   "source": [
    "test_loss, test_acc = model.evaluate(X_test, y_test)\n",
    "\n",
    "print(f\"Test Loss: {test_loss}\")\n",
    "print(f\"Test accuracy: {test_acc}\")"
   ]
  },
  {
   "cell_type": "code",
   "execution_count": null,
   "metadata": {
    "colab": {
     "base_uri": "https://localhost:8080/"
    },
    "id": "leihkU2EVTjw",
    "outputId": "e9e1217a-3e90-47d8-b0bb-54ebbbb7fe0b"
   },
   "outputs": [],
   "source": [
    "y_pred = model.predict(X_test)"
   ]
  },
  {
   "cell_type": "markdown",
   "metadata": {
    "id": "ysfBw3ZPN7RA"
   },
   "source": [
    "Other metrics are also calculated and visualized\n",
    "\n",
    "The metrics show near perfect scores."
   ]
  },
  {
   "cell_type": "code",
   "execution_count": null,
   "metadata": {
    "colab": {
     "base_uri": "https://localhost:8080/",
     "height": 559
    },
    "id": "RVCsKjNLKdNC",
    "outputId": "165de03b-b111-4603-dc3a-0df10383db05"
   },
   "outputs": [],
   "source": [
    "from sklearn.metrics import accuracy_score, precision_score, recall_score\n",
    "from sklearn.metrics import f1_score, confusion_matrix, ConfusionMatrixDisplay\n",
    "from sklearn.metrics import roc_curve, RocCurveDisplay, roc_auc_score\n",
    "\n",
    "y_test_labels = np.argmax(y_test, axis=1)\n",
    "y_pred_labels = np.argmax(y_pred, axis=1)\n",
    "\n",
    "print(f\"Accuracy: {accuracy_score(y_test_labels, y_pred_labels)*100:.2f}\")\n",
    "print(f\"Precision: {precision_score(y_test_labels, y_pred_labels, average='macro')*100:.2f}\")\n",
    "print(f\"Recall: {recall_score(y_test_labels, y_pred_labels, average='macro')*100:.2f}\")\n",
    "print(f\"F1 Score: {f1_score(y_test_labels, y_pred_labels, average='macro')*100:.2f}\\n\")\n",
    "\n",
    "cm = confusion_matrix(y_test_labels, y_pred_labels)\n",
    "\n",
    "disp = ConfusionMatrixDisplay(cm, display_labels=class_labels)\n",
    "disp.plot()\n",
    "disp.ax_.set_title('Confusion Matrix')\n",
    "plt.show()"
   ]
  },
  {
   "cell_type": "markdown",
   "metadata": {
    "id": "GweUHiARQ8xd"
   },
   "source": [
    "## K-Fold Cross-Validation"
   ]
  },
  {
   "cell_type": "markdown",
   "metadata": {
    "id": "9u8WYZSnRMXX"
   },
   "source": [
    "Since the model shows near perfect metrics in all categories, validating these results with a proper cross-validation approach."
   ]
  },
  {
   "cell_type": "code",
   "execution_count": null,
   "metadata": {
    "id": "343sB9RZOgXs"
   },
   "outputs": [],
   "source": [
    "from sklearn.model_selection import KFold"
   ]
  },
  {
   "cell_type": "markdown",
   "metadata": {
    "id": "RVcDpnETRqg1"
   },
   "source": [
    "K-Fold cross-validation for the CNN model from scratch.\n",
    "- Folds: 5\n",
    "- Initializes empty lists to store the loss and accuracy for each fold.\n",
    "- Iterates over each fold, training a new model on the training set and evaluating it on the validation set.\n",
    "- For each fold, it compiles a new instance of the CNN model with the Adam optimizer.\n",
    "- Trains the model quietly (verbose=0 so it doesn't print out logs) for 100 epochs with a batch size of 128.\n",
    "- Evaluates the model on the validation set and prints the fold number along with the validation results."
   ]
  },
  {
   "cell_type": "code",
   "execution_count": null,
   "metadata": {
    "colab": {
     "base_uri": "https://localhost:8080/"
    },
    "id": "_VEJu-06H5dK",
    "outputId": "9a6ff23a-d23f-43f7-e879-d3b1b7bf0ff4"
   },
   "outputs": [],
   "source": [
    "n_folds = 5\n",
    "epochs = 100\n",
    "batch_size = 128\n",
    "\n",
    "kfold = KFold(n_splits=n_folds, shuffle=True)\n",
    "\n",
    "kfold_hist_loss, kfold_hist_acc = [], []\n",
    "\n",
    "fold_count = 1\n",
    "print(f'K-Fold Cross-Validation on the CNN model [{n_folds} Folds]')\n",
    "\n",
    "for train_index, val_index in kfold.split(X_images, y):\n",
    "\n",
    "  t_x, val_x = X_images[train_index], X_images[val_index]\n",
    "  t_y, val_y = y.iloc[train_index], y.iloc[val_index]\n",
    "\n",
    "  t_y = to_categorical(t_y, num_classes=10)\n",
    "  val_y = to_categorical(val_y, num_classes=10)\n",
    "\n",
    "  model_tmp = create_cnn_model()\n",
    "  optimizer_tmp = Adam(learning_rate=0.001, beta_1=0.9, beta_2=0.999)\n",
    "  model_tmp.compile(optimizer=optimizer_tmp, loss=\"categorical_crossentropy\", metrics=[\"accuracy\"])\n",
    "\n",
    "  print(f\"\\nFold {fold_count} - Training\")\n",
    "  model_tmp.fit(t_x, t_y, epochs=epochs, batch_size=batch_size, verbose=0)\n",
    "\n",
    "  val_loss, val_acc = model_tmp.evaluate(val_x, val_y, verbose=0)\n",
    "  print(f'Fold {fold_count} - Validation')\n",
    "  kfold_hist_loss.append(val_loss)\n",
    "  kfold_hist_acc.append(val_acc)\n",
    "\n",
    "  fold_count += 1"
   ]
  },
  {
   "cell_type": "markdown",
   "metadata": {
    "id": "xeaiCWDySkFF"
   },
   "source": [
    "Results of the K-fold cross-validation"
   ]
  },
  {
   "cell_type": "code",
   "execution_count": null,
   "metadata": {
    "colab": {
     "base_uri": "https://localhost:8080/"
    },
    "id": "_AP2Rx5iLv9i",
    "outputId": "be8f07e5-492c-4259-801f-ae95c872072f"
   },
   "outputs": [],
   "source": [
    "print(f'Validation Loss and Accuracy across {n_folds} Folds.')\n",
    "for i in range(n_folds):\n",
    "  print(f'Fold {i+1}\\tLoss: {kfold_hist_loss[i]}\\tAccuracy: {kfold_hist_acc[i]}')\n",
    "\n",
    "print(f'\\nMean loss across {n_folds} folds: {np.mean(kfold_hist_loss)}')\n",
    "\n",
    "print(f'\\nMean cross-validation score: {np.mean(kfold_hist_acc)}')\n",
    "print(f\"Standard deviation of cross-validation scores: {np.std(kfold_hist_acc)}\")"
   ]
  },
  {
   "cell_type": "markdown",
   "metadata": {
    "id": "QpBZ4LHuS1wB"
   },
   "source": [
    "Plotting the loss and accuracy of the CNN model across folds"
   ]
  },
  {
   "cell_type": "code",
   "execution_count": null,
   "metadata": {
    "colab": {
     "base_uri": "https://localhost:8080/",
     "height": 807
    },
    "id": "Iq3iK-KDPOhG",
    "outputId": "05726d08-f3e4-42ab-f94e-083cdee5e14b"
   },
   "outputs": [],
   "source": [
    "train_loss = history.history['loss']\n",
    "train_acc = history.history['accuracy']\n",
    "\n",
    "plt.figure(figsize=(8, 8))\n",
    "\n",
    "plt.subplot(2, 1, 1)\n",
    "plt.plot(kfold_hist_loss, label='Validation loss', marker='o')\n",
    "plt.axhline(y=np.mean(kfold_hist_loss), color='r', linestyle='--', label='Mean loss')\n",
    "plt.xlabel('Fold')\n",
    "plt.ylabel('Loss')\n",
    "plt.title('Cross-Validation Loss Across Folds')\n",
    "plt.legend()\n",
    "\n",
    "plt.subplot(2, 1, 2)\n",
    "plt.plot(kfold_hist_acc, label='Validation scores', marker='o')\n",
    "plt.axhline(y=np.mean(kfold_hist_acc), color='r', linestyle='--', label='Mean accuracy')\n",
    "plt.xlabel('Fold')\n",
    "plt.ylabel('Accuracy')\n",
    "plt.title('Cross-Validation Scores Across Folds')\n",
    "plt.legend()\n",
    "\n",
    "plt.tight_layout()\n",
    "plt.show()"
   ]
  },
  {
   "cell_type": "markdown",
   "metadata": {
    "id": "xARYMf7kT6Ez"
   },
   "source": [
    "Further validation from K-Fold cross-validation with 5 folds confirmed the model's robustness and consistency across different subsets of data. Each fold was trained independently, and the model exhibited stable performance across all folds, validating its effectiveness and stability."
   ]
  },
  {
   "cell_type": "markdown",
   "metadata": {
    "id": "agbQ1N_wUAjp"
   },
   "source": [
    "## Conclusion\n"
   ]
  },
  {
   "cell_type": "markdown",
   "metadata": {
    "id": "J9bE2kq9bnXO"
   },
   "source": [
    "1. **High Accuracy:** The CNN achieved near-perfect accuracy on the test set and consistent results across validation folds, highlighting its capability to effectively recognize handwritten digits.\n",
    "2. **Robust Model Design:** The use of dropout layers and careful architectural choices helped in mitigating overfitting, as evidenced by consistent performance during K-Fold cross-validation.\n",
    "3. **Effective Feature Extraction:** Visualization of feature maps revealed that the model was effectively capturing relevant features at various layers, crucial for accurate classification.\n",
    "4. **Generalization Capability:** The consistent performance across multiple folds during cross-validation suggests that the model is not overly fitted to the training data but rather generalizes well to new, unseen data.\n",
    "5. **Potential Improvements:** While results are already excellent, exploring additional enhancements such as further hyperparameter tuning, advanced regularization techniques, or experimenting with deeper architectures might provide marginal gains."
   ]
  },
  {
   "cell_type": "code",
   "execution_count": null,
   "metadata": {
    "id": "woUhjC-uH8K3"
   },
   "outputs": [],
   "source": []
  }
 ],
 "metadata": {
  "colab": {
   "provenance": []
  },
  "kernelspec": {
   "display_name": "Python 3 (ipykernel)",
   "language": "python",
   "name": "python3"
  },
  "language_info": {
   "codemirror_mode": {
    "name": "ipython",
    "version": 3
   },
   "file_extension": ".py",
   "mimetype": "text/x-python",
   "name": "python",
   "nbconvert_exporter": "python",
   "pygments_lexer": "ipython3",
   "version": "3.11.5"
  }
 },
 "nbformat": 4,
 "nbformat_minor": 1
}
